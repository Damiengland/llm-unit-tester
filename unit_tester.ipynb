{
 "cells": [
  {
   "cell_type": "markdown",
   "id": "2b111f97-d4b4-4326-84b4-d06843474af8",
   "metadata": {},
   "source": [
    "# LLM Unit Tester"
   ]
  },
  {
   "cell_type": "code",
   "execution_count": 1,
   "id": "78f69790-4cc0-47c6-8f9c-582c3cd7ff1a",
   "metadata": {},
   "outputs": [],
   "source": [
    "# imports\n",
    "\n",
    "import os\n",
    "import io\n",
    "import sys\n",
    "from dotenv import load_dotenv\n",
    "from openai import OpenAI\n",
    "import google.generativeai\n",
    "import anthropic\n",
    "from IPython.display import Markdown, display, update_display\n",
    "import gradio as gr\n",
    "import subprocess"
   ]
  },
  {
   "cell_type": "code",
   "execution_count": 2,
   "id": "8bb709bf-bc70-4675-a295-4bdcb501d310",
   "metadata": {},
   "outputs": [],
   "source": [
    "# setup env\n",
    "\n",
    "load_dotenv()\n",
    "openai_key = os.getenv(\"OPENAI_API_KEY\")\n",
    "claude_Key = os.getenv(\"ANTHROPIC_API_KEY\")"
   ]
  },
  {
   "cell_type": "code",
   "execution_count": 3,
   "id": "354529fd-0398-493b-9388-d3342094e4ae",
   "metadata": {},
   "outputs": [],
   "source": [
    "# grab instances of apis\n",
    "\n",
    "openai = OpenAI()\n",
    "claude = anthropic.Anthropic()"
   ]
  },
  {
   "cell_type": "code",
   "execution_count": 4,
   "id": "289172fd-b055-4d1c-9288-49aa11745640",
   "metadata": {},
   "outputs": [],
   "source": [
    "# define constants\n",
    "\n",
    "OPENAI_MODEL = \"gpt-4o\""
   ]
  },
  {
   "cell_type": "code",
   "execution_count": 5,
   "id": "0932c12e-bf34-435a-bf73-35fc1bb6a6c0",
   "metadata": {},
   "outputs": [],
   "source": [
    "# define system message\n",
    "\n",
    "system_message = \"You are an expert Python developer specializing in writing clean, precise, and comprehensive unit tests.\"\n",
    "system_message += \"Your goal is to create test cases for the user's provided Python code.\"\n",
    "system_message += \"Respond only with Python code. \""
   ]
  },
  {
   "cell_type": "code",
   "execution_count": 16,
   "id": "d74aa5c6-d6a0-419b-9746-e8d3ad8bb66a",
   "metadata": {},
   "outputs": [],
   "source": [
    "# define user prompt function\n",
    "\n",
    "def user_prompt(python):\n",
    "    user_prompt = \"Create test cases for the provided Python code. \"\n",
    "    user_prompt += \"Respond only with Python code. \"\n",
    "    user_prompt += python\n",
    "    return user_prompt\n"
   ]
  },
  {
   "cell_type": "code",
   "execution_count": 7,
   "id": "224b8bc0-1034-45e0-a64e-56c6abbb6b3b",
   "metadata": {},
   "outputs": [],
   "source": [
    "# define messages function \n",
    "\n",
    "def message_to(python):\n",
    "    messages = [\n",
    "        {'role': 'system', 'content': system_message},\n",
    "        {'role': 'user', 'content': user_prompt(python)}\n",
    "    ]\n",
    "    return messages\n"
   ]
  },
  {
   "cell_type": "code",
   "execution_count": 9,
   "id": "1d64cce1-4d55-48e2-8ed4-83cd315ba145",
   "metadata": {},
   "outputs": [],
   "source": [
    "# write file\n",
    "\n",
    "def write_output(python):\n",
    "    code = python\n",
    "    with open(\"unit_tests.py\", \"w\") as f:\n",
    "        f.write(code)\n"
   ]
  },
  {
   "cell_type": "code",
   "execution_count": 10,
   "id": "b2c300ac-3932-4289-a887-031ab434dffb",
   "metadata": {},
   "outputs": [],
   "source": [
    "# gpt function\n",
    "\n",
    "def create_tests_gpt(python):\n",
    "    messages = message_to(python)\n",
    "    stream = openai.chat.completions.create(\n",
    "        model=OPENAI_MODEL,\n",
    "        messages=messages,\n",
    "        stream=True\n",
    "    )\n",
    "\n",
    "    response = ''\n",
    "    for chunk in stream:\n",
    "        fragment = chunk.choices[0].delta.content or \"\"\n",
    "        response += fragment\n",
    "        # print(fragment, end='', flush=True)\n",
    "        yield response\n",
    "    write_output(response)"
   ]
  },
  {
   "cell_type": "code",
   "execution_count": 11,
   "id": "026348b0-d50b-4f4c-bca1-7a33c503ed05",
   "metadata": {},
   "outputs": [],
   "source": [
    "# test python code\n",
    "\n",
    "python_code = '''\n",
    "def calculate_average(numbers: list[float]) -> float:\n",
    "    \"\"\"\n",
    "    Calculates the average of a list of numbers.\n",
    "\n",
    "    Args:\n",
    "        numbers: A list of numbers (integers or floats).\n",
    "\n",
    "    Returns:\n",
    "        The average of the numbers.\n",
    "\n",
    "    Raises:\n",
    "        ValueError: If the input list is empty.\n",
    "    \"\"\"\n",
    "    if not numbers:\n",
    "        raise ValueError(\"Input list cannot be empty\")\n",
    "    \n",
    "    return sum(numbers) / len(numbers)\n",
    "\n",
    "'''"
   ]
  },
  {
   "cell_type": "code",
   "execution_count": 12,
   "id": "66812093-77ae-4028-84f7-1fbc57d033b3",
   "metadata": {},
   "outputs": [
    {
     "name": "stdout",
     "output_type": "stream",
     "text": [
      "\n",
      "def calculate_average(numbers: list[float]) -> float:\n",
      "    \"\"\"\n",
      "    Calculates the average of a list of numbers.\n",
      "\n",
      "    Args:\n",
      "        numbers: A list of numbers (integers or floats).\n",
      "\n",
      "    Returns:\n",
      "        The average of the numbers.\n",
      "\n",
      "    Raises:\n",
      "        ValueError: If the input list is empty.\n",
      "    \"\"\"\n",
      "    if not numbers:\n",
      "        raise ValueError(\"Input list cannot be empty\")\n",
      "\n",
      "    return sum(numbers) / len(numbers)\n",
      "\n",
      "\n"
     ]
    }
   ],
   "source": [
    "print(python_code)"
   ]
  },
  {
   "cell_type": "code",
   "execution_count": 13,
   "id": "6766217c-a8fc-48b0-9440-51c30b6a4c71",
   "metadata": {},
   "outputs": [
    {
     "data": {
      "text/plain": [
       "<generator object create_tests_gpt at 0x137172240>"
      ]
     },
     "execution_count": 13,
     "metadata": {},
     "output_type": "execute_result"
    }
   ],
   "source": [
    "create_tests_gpt(python_code)"
   ]
  },
  {
   "cell_type": "code",
   "execution_count": 17,
   "id": "33403811-639e-4064-98ad-86e55a5b1419",
   "metadata": {},
   "outputs": [
    {
     "name": "stdout",
     "output_type": "stream",
     "text": [
      "* Running on local URL:  http://127.0.0.1:7861\n",
      "* To create a public link, set `share=True` in `launch()`.\n"
     ]
    },
    {
     "data": {
      "text/html": [
       "<div><iframe src=\"http://127.0.0.1:7861/\" width=\"100%\" height=\"500\" allow=\"autoplay; camera; microphone; clipboard-read; clipboard-write;\" frameborder=\"0\" allowfullscreen></iframe></div>"
      ],
      "text/plain": [
       "<IPython.core.display.HTML object>"
      ]
     },
     "metadata": {},
     "output_type": "display_data"
    },
    {
     "data": {
      "text/plain": []
     },
     "execution_count": 17,
     "metadata": {},
     "output_type": "execute_result"
    }
   ],
   "source": [
    "# def build gradio app\n",
    "\n",
    "with gr.Blocks() as ui:\n",
    "    with gr.Row():\n",
    "        python = gr.Textbox(label=\"Raw Python code:\", lines=10, value=python_code)\n",
    "        py_comment = gr.Textbox(label=\"Commented Python Code:\", lines=10)\n",
    "    with gr.Row():\n",
    "        convert = gr.Button(\"Build Tests\")\n",
    "\n",
    "    convert.click(create_tests_gpt, inputs=[python], outputs=[py_comment])\n",
    "\n",
    "ui.launch(inbrowser=True)"
   ]
  },
  {
   "cell_type": "code",
   "execution_count": null,
   "id": "e6b80dfc-d5d2-4023-8a2b-416e2eab1e6b",
   "metadata": {},
   "outputs": [],
   "source": []
  }
 ],
 "metadata": {
  "kernelspec": {
   "display_name": "Python 3 (ipykernel)",
   "language": "python",
   "name": "python3"
  },
  "language_info": {
   "codemirror_mode": {
    "name": "ipython",
    "version": 3
   },
   "file_extension": ".py",
   "mimetype": "text/x-python",
   "name": "python",
   "nbconvert_exporter": "python",
   "pygments_lexer": "ipython3",
   "version": "3.11.13"
  }
 },
 "nbformat": 4,
 "nbformat_minor": 5
}
